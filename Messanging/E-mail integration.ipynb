{
 "cells": [
  {
   "cell_type": "code",
   "execution_count": 1,
   "metadata": {},
   "outputs": [],
   "source": [
    "import pandas as pd\n",
    "import smtplib\n",
    "import datetime as dt\n",
    "from email.mime.text import MIMEText\n",
    "from email.mime.multipart import MIMEMultipart\n",
    "import openpyxl\n",
    "import re as re"
   ]
  },
  {
   "cell_type": "code",
   "execution_count": 2,
   "metadata": {},
   "outputs": [],
   "source": [
    "df=pd.read_excel('INSURANCE.xlsx',Sheet=1)\n",
    "#print(\"Original data : \\n\",df)"
   ]
  },
  {
   "cell_type": "code",
   "execution_count": 3,
   "metadata": {},
   "outputs": [],
   "source": [
    "wb = openpyxl.load_workbook('INSURANCE.xlsx')\n",
    "sheet = wb['Sheet1']"
   ]
  },
  {
   "cell_type": "code",
   "execution_count": 4,
   "metadata": {},
   "outputs": [
    {
     "data": {
      "text/plain": [
       "5"
      ]
     },
     "execution_count": 4,
     "metadata": {},
     "output_type": "execute_result"
    }
   ],
   "source": [
    "sheet.max_row "
   ]
  },
  {
   "cell_type": "code",
   "execution_count": 5,
   "metadata": {},
   "outputs": [
    {
     "name": "stdout",
     "output_type": "stream",
     "text": [
      "06-06-2021\n"
     ]
    }
   ],
   "source": [
    "tday=dt.date.today()\n",
    "S=tday.strftime(\"%d-%m-%Y\")\n",
    "print(S)\n"
   ]
  },
  {
   "cell_type": "code",
   "execution_count": 6,
   "metadata": {},
   "outputs": [
    {
     "name": "stdout",
     "output_type": "stream",
     "text": [
      "2021-06-10 00:00:00\n",
      "2021-06-14 00:00:00\n",
      "2021-05-31 00:00:00\n",
      "2021-07-04 00:00:00\n"
     ]
    }
   ],
   "source": [
    "overdue={}\n",
    "for row in range(2, sheet.max_row + 1):\n",
    "    NextPrepay = sheet['E' + str(row)].value \n",
    "    print(NextPrepay)"
   ]
  },
  {
   "cell_type": "code",
   "execution_count": 7,
   "metadata": {},
   "outputs": [],
   "source": [
    "due= NextPrepay.strftime(\"%d-%m-%Y\")"
   ]
  },
  {
   "cell_type": "code",
   "execution_count": 8,
   "metadata": {},
   "outputs": [
    {
     "name": "stdout",
     "output_type": "stream",
     "text": [
      "<class 'str'>\n",
      "04-07-2021\n"
     ]
    }
   ],
   "source": [
    "print(type(due))\n",
    "print(due)"
   ]
  },
  {
   "cell_type": "code",
   "execution_count": 9,
   "metadata": {},
   "outputs": [],
   "source": [
    "if due == S:\n",
    "    name = sheet['B' + str(row)].value\n",
    "    policynum = sheet['C' + str(row)].value\n",
    "    policydate =sheet['D' + str(row)].value \n",
    "    Frequency= sheet['F' + str(row)].value\n",
    "    email= sheet['G' + str(row)].value\n",
    "    Phone= sheet['H' + str(row)].value\n",
    "    dueamount= sheet['I' + str(row)].value\n",
    "    overdue[name]=email     "
   ]
  },
  {
   "cell_type": "code",
   "execution_count": 10,
   "metadata": {},
   "outputs": [
    {
     "data": {
      "text/plain": [
       "(235, b'2.7.0 Accepted')"
      ]
     },
     "execution_count": 10,
     "metadata": {},
     "output_type": "execute_result"
    }
   ],
   "source": [
    "server = smtplib.SMTP('smtp.gmail.com', 587)\n",
    "server.ehlo()\n",
    "server.starttls()\n",
    "server.login(\"sushmabadiger01@gmail.com\", \"Rainbow@22\")\n",
    "\n"
   ]
  },
  {
   "cell_type": "code",
   "execution_count": 11,
   "metadata": {},
   "outputs": [
    {
     "data": {
      "text/plain": [
       "(221, b'2.0.0 closing connection 35sm6698798pgs.35 - gsmtp')"
      ]
     },
     "execution_count": 11,
     "metadata": {},
     "output_type": "execute_result"
    }
   ],
   "source": [
    "for name, email in overdue.items():\n",
    "    body =('Subject:%s over due payement .\\n\\n DEAR %s,\\n  your Insurance policy no: %s showing an overdue of Rs.%s as on  %s,we request you to please contact branch for further details.\\nThank you' %(name,policynum,email,dueamount))\n",
    "           \n",
    "    print('sending email to %s....' % email)\n",
    "    server.sendmail('sushmabadiger01@gmail.com', email, body.as_string())\n",
    "        \n",
    "           \n",
    "server.quit()    "
   ]
  },
  {
   "cell_type": "code",
   "execution_count": null,
   "metadata": {},
   "outputs": [],
   "source": []
  }
 ],
 "metadata": {
  "kernelspec": {
   "display_name": "Python 3",
   "language": "python",
   "name": "python3"
  },
  "language_info": {
   "codemirror_mode": {
    "name": "ipython",
    "version": 3
   },
   "file_extension": ".py",
   "mimetype": "text/x-python",
   "name": "python",
   "nbconvert_exporter": "python",
   "pygments_lexer": "ipython3",
   "version": "3.7.3"
  }
 },
 "nbformat": 4,
 "nbformat_minor": 2
}
