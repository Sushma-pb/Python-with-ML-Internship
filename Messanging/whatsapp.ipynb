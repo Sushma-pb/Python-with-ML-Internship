{
 "cells": [
  {
   "cell_type": "code",
   "execution_count": 8,
   "metadata": {},
   "outputs": [],
   "source": [
    "from selenium import webdriver\n",
    "from selenium.webdriver.support.ui import WebDriverWait\n",
    "from selenium.webdriver.support import expected_conditions as EC\n",
    "from selenium.webdriver.common.keys import Keys\n",
    "from selenium.webdriver.common.by import By\n",
    "import datetime\n",
    "import time\n",
    "import openpyxl as excel\n",
    "import urllib.parse"
   ]
  },
  {
   "cell_type": "code",
   "execution_count": 9,
   "metadata": {},
   "outputs": [],
   "source": [
    "def readEmail(filename):\n",
    "    lst = []\n",
    "    file = excel.load_workbook('info2.xlsx')\n",
    "    sheet = file.active\n",
    "    firstCol = sheet['A']\n",
    "    secondCol = sheet['B']\n",
    "    thirdcol=['C']\n",
    "    fourthcol=['D']\n",
    "    fifthcol=['E']\n",
    "    sixthcol=['F']\n",
    "    seventhcol=['G']\n",
    "    eightcol=['H']\n",
    "    ninethcol=['I']\n",
    "    driver  = webdriver.Chrome()\n",
    "    driver.get('https://web.whatsapp.com') \n",
    "    time.sleep(60)"
   ]
  },
  {
   "cell_type": "code",
   "execution_count": 10,
   "metadata": {},
   "outputs": [
    {
     "ename": "SyntaxError",
     "evalue": "invalid syntax (<ipython-input-10-a4bf019d25f2>, line 4)",
     "output_type": "error",
     "traceback": [
      "\u001b[1;36m  File \u001b[1;32m\"<ipython-input-10-a4bf019d25f2>\"\u001b[1;36m, line \u001b[1;32m4\u001b[0m\n\u001b[1;33m    Policy Date=str(fourthcol[cell].value)\u001b[0m\n\u001b[1;37m              ^\u001b[0m\n\u001b[1;31mSyntaxError\u001b[0m\u001b[1;31m:\u001b[0m invalid syntax\n"
     ]
    }
   ],
   "source": [
    "for cell in range(len(nCol+1)):\n",
    "        Name = str(secondCol[cell].value)\n",
    "        #Policy Number= str(thirdCol[cell].value)\n",
    "        Policy Date=str(fourthcol[cell].value)\n",
    "        Next Premium payement Date=str(fifthcol[cell].value)\n",
    "        Frequency=str(sixthcol[cell].value)\n",
    "        Email=str(seventhcol[cell].value)\n",
    "        Phone=str(eightcol[cell].value)\n",
    "        Due Amount=str(ninethcol[cell].value)\n",
    "        print(Name)\n",
    "         ##print(Policy Number)\n",
    "        print(Policy Date)\n",
    "        print(Next Premium payement Date)\n",
    "        print(Frequency)\n",
    "        print(Email)\n",
    "        print(Phone)\n",
    "        print(Due Amount)\n",
    "        message=('subject':%s Due amount.\\n\\n Dear mr/ms %s,\\n your Name %s and Policy num:%s'\n",
    "                'your policy date is: %s and your next premium payement date is:%s'\n",
    "                'frequency  is %s,\\n your due payement is:%s.'\n",
    "                'so pay  the due amount as soon as posible.\\n thank you'.)\n",
    "        print(message)\n",
    "        link = \"https://web.whatsapp.com/send?phone=\"+Phone+\"&amp;text=\"+urllib.parse.quote_plus(message)+\"&amp;source=&amp;data=\"\n",
    "        print(link)  \n",
    "        driver.get(link)\n",
    "        time.sleep(4)\n",
    "        print(\"Sending message to\", Phone)\n",
    "\n",
    "       "
   ]
  },
  {
   "cell_type": "code",
   "execution_count": 16,
   "metadata": {},
   "outputs": [
    {
     "ename": "SyntaxError",
     "evalue": "invalid syntax (<ipython-input-16-71c903e79a2f>, line 11)",
     "output_type": "error",
     "traceback": [
      "\u001b[1;36m  File \u001b[1;32m\"<ipython-input-16-71c903e79a2f>\"\u001b[1;36m, line \u001b[1;32m11\u001b[0m\n\u001b[1;33m    except NoSuchElementException:\u001b[0m\n\u001b[1;37m         ^\u001b[0m\n\u001b[1;31mSyntaxError\u001b[0m\u001b[1;31m:\u001b[0m invalid syntax\n"
     ]
    }
   ],
   "source": [
    " try:\n",
    "            time.sleep(7)\n",
    "            input_box = driver.find_element_by_xpath('//*[@id=\"main\"]/footer/div[1]/div[2]/div/div[2]')\n",
    "            for ch in message:\n",
    "                if ch == \"\\n\":\n",
    "                    ActionChains(browser).key_down(Keys.SHIFT).key_down(Keys.ENTER).key_up(Keys.ENTER).key_up(Keys.SHIFT).key_up(Keys.BACKSPACE).perform()\n",
    "                else:\n",
    "                    input_box.send_keys(ch)\n",
    "            input_box.send_keys(Keys.ENTER)\n",
    "            print(\"Message sent successfuly\")\n",
    "            except NoSuchElementException:\n",
    "            print(\"Failed to send message\")\n",
    "            driver.quit()\n",
    "       \n",
    "              targets = readEmail(\"info2.xlsx\")"
   ]
  },
  {
   "cell_type": "code",
   "execution_count": null,
   "metadata": {},
   "outputs": [],
   "source": []
  }
 ],
 "metadata": {
  "kernelspec": {
   "display_name": "Python 3",
   "language": "python",
   "name": "python3"
  },
  "language_info": {
   "codemirror_mode": {
    "name": "ipython",
    "version": 3
   },
   "file_extension": ".py",
   "mimetype": "text/x-python",
   "name": "python",
   "nbconvert_exporter": "python",
   "pygments_lexer": "ipython3",
   "version": "3.7.3"
  }
 },
 "nbformat": 4,
 "nbformat_minor": 2
}
