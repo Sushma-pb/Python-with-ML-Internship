{
 "cells": [
  {
   "cell_type": "code",
   "execution_count": 15,
   "metadata": {},
   "outputs": [],
   "source": [
    "import multiprocessing\n",
    "import random\n",
    "import time\n",
    "from threading import current_thread\n",
    "import rx\n",
    "from rx.scheduler import ThreadPoolScheduler\n",
    "from rx import operators as ops\n"
   ]
  },
  {
   "cell_type": "code",
   "execution_count": 16,
   "metadata": {},
   "outputs": [],
   "source": [
    "import threading\n",
    "\n",
    "def test_logic():\n",
    "    myfile = open(\"Data1.txt\", 'r')\n",
    "    line = myfile.readline()\n",
    "    while(line != ''):\n",
    "        T1=  line.split('')\n",
    "        print(T1)\n",
    "        line = myfile.readline()"
   ]
  },
  {
   "cell_type": "code",
   "execution_count": 19,
   "metadata": {},
   "outputs": [
    {
     "name": "stdout",
     "output_type": "stream",
     "text": [
      "football: sport\n",
      "guitar: music\n"
     ]
    }
   ],
   "source": [
    "list1={\"football\":\"sport\",\n",
    "      \"guitar\":\"music\"}\n",
    "print(\"football:\",list1['football'])\n",
    "print(\"guitar:\",list1['guitar'])"
   ]
  },
  {
   "cell_type": "code",
   "execution_count": 20,
   "metadata": {},
   "outputs": [],
   "source": [
    "def test_logic():\n",
    "    myfile = open(\"Data2.txt\", 'r')\n",
    "    line = myfile.readline()\n",
    "    while(line != ''):\n",
    "        T2=  line.split('')\n",
    "        print(T2)\n",
    "        line = myfile.readline()\n",
    "    "
   ]
  },
  {
   "cell_type": "code",
   "execution_count": 21,
   "metadata": {},
   "outputs": [
    {
     "name": "stdout",
     "output_type": "stream",
     "text": [
      "football: sport\n",
      "cricket: sport\n",
      "song: music\n"
     ]
    }
   ],
   "source": [
    "list2={\"football\":\"sport\",\n",
    "      \"cricket\":\"sport\",\n",
    "      \"song\":\"music\"}\n",
    "print(\"football:\",list2['football'])\n",
    "print(\"cricket:\",list2['cricket'])\n",
    "print(\"song:\",list2['song'])\n"
   ]
  },
  {
   "cell_type": "code",
   "execution_count": 31,
   "metadata": {},
   "outputs": [
    {
     "name": "stdout",
     "output_type": "stream",
     "text": [
      "{'football': 'sport', 'guitar': 'music', 'cricket': 'sport', 'song': 'music'}\n"
     ]
    }
   ],
   "source": [
    "def Merge(list1,list2):\n",
    "    res={**list1,**list2}\n",
    "    return res\n",
    "\n",
    "list3=Merge(list1,list2)\n",
    "print(list3)"
   ]
  },
  {
   "cell_type": "code",
   "execution_count": 34,
   "metadata": {},
   "outputs": [
    {
     "name": "stdout",
     "output_type": "stream",
     "text": [
      "football -> 1\n",
      "guitar -> 1\n",
      "cricket -> 1\n",
      "song -> 1\n"
     ]
    }
   ],
   "source": [
    "list=list3\n",
    "\n",
    "frequency ={}\n",
    "for item in list:\n",
    "    if (item in frequency):\n",
    "        frequency[item] +=1\n",
    "    else:\n",
    "        frequency[item]=1\n",
    "for key, value in frequency.items():\n",
    "    print(\"%s -> %d\" % (key,value))"
   ]
  },
  {
   "cell_type": "code",
   "execution_count": null,
   "metadata": {},
   "outputs": [],
   "source": []
  }
 ],
 "metadata": {
  "kernelspec": {
   "display_name": "Python 3",
   "language": "python",
   "name": "python3"
  },
  "language_info": {
   "codemirror_mode": {
    "name": "ipython",
    "version": 3
   },
   "file_extension": ".py",
   "mimetype": "text/x-python",
   "name": "python",
   "nbconvert_exporter": "python",
   "pygments_lexer": "ipython3",
   "version": "3.7.3"
  }
 },
 "nbformat": 4,
 "nbformat_minor": 2
}
