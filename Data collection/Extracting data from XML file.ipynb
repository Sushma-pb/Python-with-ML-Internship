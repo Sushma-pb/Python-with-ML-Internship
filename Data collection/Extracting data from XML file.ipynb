{
 "cells": [
  {
   "cell_type": "code",
   "execution_count": 4,
   "metadata": {},
   "outputs": [],
   "source": [
    "import xml.etree.ElementTree as ET #importing the libraries\n",
    "import pandas as pd"
   ]
  },
  {
   "cell_type": "code",
   "execution_count": 7,
   "metadata": {},
   "outputs": [],
   "source": [
    "xml_data= open('Book1.xml','r').read() #read file"
   ]
  },
  {
   "cell_type": "code",
   "execution_count": 8,
   "metadata": {},
   "outputs": [],
   "source": [
    "root= ET.XML(xml_data) #parse XML"
   ]
  },
  {
   "cell_type": "code",
   "execution_count": 9,
   "metadata": {},
   "outputs": [],
   "source": [
    "data= []\n",
    "cols=[]"
   ]
  },
  {
   "cell_type": "code",
   "execution_count": 10,
   "metadata": {},
   "outputs": [],
   "source": [
    "for i ,child in enumerate(root):\n",
    "    data.append([subchild.text for subchild in child])\n",
    "    cols.append(child.tag)"
   ]
  },
  {
   "cell_type": "code",
   "execution_count": 26,
   "metadata": {},
   "outputs": [],
   "source": [
    "df = pd.DataFrame(data) #writeing in df\n",
    "#df.columns = cols"
   ]
  },
  {
   "cell_type": "code",
   "execution_count": 27,
   "metadata": {},
   "outputs": [
    {
     "name": "stdout",
     "output_type": "stream",
     "text": [
      "                       0                                       1  \\\n",
      "0   Gambardella, Matthew                   XML Developer's Guide   \n",
      "1             Ralls, Kim                           Midnight Rain   \n",
      "2            Corets, Eva                         Maeve Ascendant   \n",
      "3            Corets, Eva                         Oberon's Legacy   \n",
      "4            Corets, Eva                      The Sundered Grail   \n",
      "5       Randall, Cynthia                             Lover Birds   \n",
      "6         Thurman, Paula                           Splish Splash   \n",
      "7          Knorr, Stefan                         Creepy Crawlies   \n",
      "8           Kress, Peter                            Paradox Lost   \n",
      "9           O'Brien, Tim   Microsoft .NET: The Programming Bible   \n",
      "10          O'Brien, Tim           MSXML3: A Comprehensive Guide   \n",
      "11           Galos, Mike  Visual Studio 7: A Comprehensive Guide   \n",
      "\n",
      "                  2      3           4  \\\n",
      "0          Computer  44.95  2000-10-01   \n",
      "1           Fantasy   5.95  2000-12-16   \n",
      "2           Fantasy   5.95  2000-11-17   \n",
      "3           Fantasy   5.95  2001-03-10   \n",
      "4           Fantasy   5.95  2001-09-10   \n",
      "5           Romance   4.95  2000-09-02   \n",
      "6           Romance   4.95  2000-11-02   \n",
      "7            Horror   4.95  2000-12-06   \n",
      "8   Science Fiction   6.95  2000-11-02   \n",
      "9          Computer  36.95  2000-12-09   \n",
      "10         Computer  36.95  2000-12-01   \n",
      "11         Computer  49.95  2001-04-16   \n",
      "\n",
      "                                                    5  \n",
      "0   An in-depth look at creating applications \\n  ...  \n",
      "1   A former architect battles corporate zombies, ...  \n",
      "2   After the collapse of a nanotechnology \\n     ...  \n",
      "3   In post-apocalypse England, the mysterious \\n ...  \n",
      "4   The two daughters of Maeve, half-sisters, \\n  ...  \n",
      "5   When Carla meets Paul at an ornithology \\n    ...  \n",
      "6   A deep sea diver finds true love twenty \\n    ...  \n",
      "7   An anthology of horror stories about roaches,\\...  \n",
      "8   After an inadvertant trip through a Heisenberg...  \n",
      "9   Microsoft's .NET initiative is explored in \\n ...  \n",
      "10  The Microsoft MSXML3 parser is covered in \\n  ...  \n",
      "11  Microsoft Visual Studio 7 is explored in depth...  \n"
     ]
    }
   ],
   "source": [
    "print(df)"
   ]
  },
  {
   "cell_type": "markdown",
   "metadata": {},
   "source": [
    "# writing xml file in pandas "
   ]
  },
  {
   "cell_type": "code",
   "execution_count": 32,
   "metadata": {},
   "outputs": [],
   "source": [
    "df = pd.DataFrame([[0,1],\n",
    "                   [2,3],\n",
    "                   [4,5],\n",
    "                   [6,7],\n",
    "                   [8,9],\n",
    "                   [10,11]],\n",
    "                 columns=['A','B'],\n",
    "                 index= ['p','Q','R','S','T','U'])\n",
    "header= df.columns"
   ]
  },
  {
   "cell_type": "code",
   "execution_count": 34,
   "metadata": {},
   "outputs": [],
   "source": [
    "root = ET.Element('root') #its a root element"
   ]
  },
  {
   "cell_type": "code",
   "execution_count": 35,
   "metadata": {},
   "outputs": [],
   "source": [
    "for column in df.columns:\n",
    "    entry = ET.SubElement(root,column)\n",
    "#adding an element"
   ]
  },
  {
   "cell_type": "code",
   "execution_count": 36,
   "metadata": {},
   "outputs": [],
   "source": [
    "for row in df.index:\n",
    "    schild=row\n",
    "    child= ET.SubElement(entry,schild)\n",
    "    child.text= str(df[column][schild])  #adding sub element"
   ]
  },
  {
   "cell_type": "code",
   "execution_count": 37,
   "metadata": {},
   "outputs": [],
   "source": [
    "xml_data= ET.tostring(root)  #binary string"
   ]
  },
  {
   "cell_type": "code",
   "execution_count": 39,
   "metadata": {},
   "outputs": [],
   "source": [
    "with open('coordinates.xml','w') as f:\n",
    "    f.write(xml_data.decode('utf-8')) #writing in file as utf-8"
   ]
  },
  {
   "cell_type": "code",
   "execution_count": null,
   "metadata": {},
   "outputs": [],
   "source": []
  }
 ],
 "metadata": {
  "kernelspec": {
   "display_name": "Python 3",
   "language": "python",
   "name": "python3"
  },
  "language_info": {
   "codemirror_mode": {
    "name": "ipython",
    "version": 3
   },
   "file_extension": ".py",
   "mimetype": "text/x-python",
   "name": "python",
   "nbconvert_exporter": "python",
   "pygments_lexer": "ipython3",
   "version": "3.7.3"
  }
 },
 "nbformat": 4,
 "nbformat_minor": 2
}
