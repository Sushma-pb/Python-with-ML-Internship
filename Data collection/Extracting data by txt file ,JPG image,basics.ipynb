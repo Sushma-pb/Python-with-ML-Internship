{
 "cells": [
  {
   "cell_type": "markdown",
   "metadata": {},
   "source": [
    "# Extracting txt file data"
   ]
  },
  {
   "cell_type": "code",
   "execution_count": 4,
   "metadata": {},
   "outputs": [],
   "source": [
    "import PyPDF2 as pdf"
   ]
  },
  {
   "cell_type": "code",
   "execution_count": 9,
   "metadata": {},
   "outputs": [],
   "source": [
    "f= open('FTU.txt','r') # read file"
   ]
  },
  {
   "cell_type": "code",
   "execution_count": 10,
   "metadata": {},
   "outputs": [
    {
     "data": {
      "text/plain": [
       "'The only available way to support Team-FTU is by the clicking ads on websites whenever you visit, this will help Team-FTU to keep community based websites alive and working.\\n'"
      ]
     },
     "execution_count": 10,
     "metadata": {},
     "output_type": "execute_result"
    }
   ],
   "source": [
    "f.read()"
   ]
  },
  {
   "cell_type": "code",
   "execution_count": 11,
   "metadata": {},
   "outputs": [],
   "source": [
    "f.close()"
   ]
  },
  {
   "cell_type": "code",
   "execution_count": 12,
   "metadata": {},
   "outputs": [],
   "source": [
    "f = open('FTU.txt',mode ='rb') # read in binary mode"
   ]
  },
  {
   "cell_type": "code",
   "execution_count": 13,
   "metadata": {},
   "outputs": [],
   "source": [
    "data = f.read()"
   ]
  },
  {
   "cell_type": "code",
   "execution_count": 14,
   "metadata": {},
   "outputs": [
    {
     "name": "stdout",
     "output_type": "stream",
     "text": [
      "b'The only available way to support Team-FTU is by the clicking ads on websites whenever you visit, this will help Team-FTU to keep community based websites alive and working.\\r\\n'\n"
     ]
    }
   ],
   "source": [
    "print(data)"
   ]
  },
  {
   "cell_type": "code",
   "execution_count": 16,
   "metadata": {},
   "outputs": [],
   "source": [
    "# creating  object veriable\n",
    "\n",
    "f = open('FTU.txt', mode ='r', encoding = 'utf-8')"
   ]
  },
  {
   "cell_type": "code",
   "execution_count": 17,
   "metadata": {},
   "outputs": [
    {
     "name": "stdout",
     "output_type": "stream",
     "text": [
      "FTU.txt\n"
     ]
    }
   ],
   "source": [
    "print(f.name)"
   ]
  },
  {
   "cell_type": "code",
   "execution_count": 18,
   "metadata": {},
   "outputs": [
    {
     "name": "stdout",
     "output_type": "stream",
     "text": [
      "r\n"
     ]
    }
   ],
   "source": [
    "print(f.mode)"
   ]
  },
  {
   "cell_type": "code",
   "execution_count": 19,
   "metadata": {},
   "outputs": [
    {
     "name": "stdout",
     "output_type": "stream",
     "text": [
      "True\n"
     ]
    }
   ],
   "source": [
    "print(f.readable())"
   ]
  },
  {
   "cell_type": "code",
   "execution_count": 20,
   "metadata": {},
   "outputs": [
    {
     "name": "stdout",
     "output_type": "stream",
     "text": [
      "False\n"
     ]
    }
   ],
   "source": [
    "print(f.writable())"
   ]
  },
  {
   "cell_type": "code",
   "execution_count": 21,
   "metadata": {},
   "outputs": [
    {
     "name": "stdout",
     "output_type": "stream",
     "text": [
      "FTU.txt\n"
     ]
    }
   ],
   "source": [
    "print(f.name)"
   ]
  },
  {
   "cell_type": "code",
   "execution_count": 22,
   "metadata": {},
   "outputs": [],
   "source": [
    "f.close()"
   ]
  },
  {
   "cell_type": "code",
   "execution_count": 23,
   "metadata": {},
   "outputs": [
    {
     "name": "stdout",
     "output_type": "stream",
     "text": [
      "True\n"
     ]
    }
   ],
   "source": [
    "print(f.closed)"
   ]
  },
  {
   "cell_type": "code",
   "execution_count": 24,
   "metadata": {},
   "outputs": [
    {
     "name": "stdout",
     "output_type": "stream",
     "text": [
      "file name: FTU.txt\n",
      "file mode: r\n",
      "file readable: True\n",
      "file writeable: False\n",
      "file closed: False\n",
      "file closed: True\n"
     ]
    }
   ],
   "source": [
    "f = open('FTU.txt', mode ='r', encoding = 'utf-8')\n",
    "\n",
    "print('file name:', f.name)\n",
    "print('file mode:', f.mode)\n",
    "print('file readable:', f.readable())\n",
    "print('file writeable:', f.writable())\n",
    "print('file closed:', f.closed)\n",
    "f.close()\n",
    "print('file closed:', f.closed)"
   ]
  },
  {
   "cell_type": "code",
   "execution_count": 32,
   "metadata": {},
   "outputs": [
    {
     "name": "stdout",
     "output_type": "stream",
     "text": [
      "file name: FTU.txt\n",
      "file mode: w\n",
      "file readable: False\n",
      "file writeable: True\n",
      "file closed: False\n",
      "file closed: True\n"
     ]
    }
   ],
   "source": [
    "f = open('FTU.txt', mode ='w', encoding = 'utf-8')\n",
    "\n",
    "print('file name:', f.name)\n",
    "print('file mode:', f.mode)\n",
    "print('file readable:', f.readable())\n",
    "print('file writeable:', f.writable())\n",
    "print('file closed:', f.closed)\n",
    "f.close()\n",
    "print('file closed:', f.closed)"
   ]
  },
  {
   "cell_type": "code",
   "execution_count": 33,
   "metadata": {},
   "outputs": [
    {
     "ename": "FileExistsError",
     "evalue": "[Errno 17] File exists: 'FTU.txt'",
     "output_type": "error",
     "traceback": [
      "\u001b[1;31m---------------------------------------------------------------------------\u001b[0m",
      "\u001b[1;31mFileExistsError\u001b[0m                           Traceback (most recent call last)",
      "\u001b[1;32m<ipython-input-33-ca4f2221236d>\u001b[0m in \u001b[0;36m<module>\u001b[1;34m\u001b[0m\n\u001b[1;32m----> 1\u001b[1;33m \u001b[0mf\u001b[0m \u001b[1;33m=\u001b[0m \u001b[0mopen\u001b[0m\u001b[1;33m(\u001b[0m\u001b[1;34m'FTU.txt'\u001b[0m\u001b[1;33m,\u001b[0m \u001b[0mmode\u001b[0m \u001b[1;33m=\u001b[0m\u001b[1;34m'x'\u001b[0m\u001b[1;33m,\u001b[0m \u001b[0mencoding\u001b[0m \u001b[1;33m=\u001b[0m \u001b[1;34m'utf-8'\u001b[0m\u001b[1;33m)\u001b[0m\u001b[1;33m\u001b[0m\u001b[1;33m\u001b[0m\u001b[0m\n\u001b[0m\u001b[0;32m      2\u001b[0m \u001b[1;33m\u001b[0m\u001b[0m\n\u001b[0;32m      3\u001b[0m \u001b[0mprint\u001b[0m\u001b[1;33m(\u001b[0m\u001b[1;34m'file name:'\u001b[0m\u001b[1;33m,\u001b[0m \u001b[0mf\u001b[0m\u001b[1;33m.\u001b[0m\u001b[0mname\u001b[0m\u001b[1;33m)\u001b[0m\u001b[1;33m\u001b[0m\u001b[1;33m\u001b[0m\u001b[0m\n\u001b[0;32m      4\u001b[0m \u001b[0mprint\u001b[0m\u001b[1;33m(\u001b[0m\u001b[1;34m'file mode:'\u001b[0m\u001b[1;33m,\u001b[0m \u001b[0mf\u001b[0m\u001b[1;33m.\u001b[0m\u001b[0mmode\u001b[0m\u001b[1;33m)\u001b[0m\u001b[1;33m\u001b[0m\u001b[1;33m\u001b[0m\u001b[0m\n\u001b[0;32m      5\u001b[0m \u001b[0mprint\u001b[0m\u001b[1;33m(\u001b[0m\u001b[1;34m'file readable:'\u001b[0m\u001b[1;33m,\u001b[0m \u001b[0mf\u001b[0m\u001b[1;33m.\u001b[0m\u001b[0mreadable\u001b[0m\u001b[1;33m(\u001b[0m\u001b[1;33m)\u001b[0m\u001b[1;33m)\u001b[0m\u001b[1;33m\u001b[0m\u001b[1;33m\u001b[0m\u001b[0m\n",
      "\u001b[1;31mFileExistsError\u001b[0m: [Errno 17] File exists: 'FTU.txt'"
     ]
    }
   ],
   "source": [
    "f = open('FTU.txt', mode ='x', encoding = 'utf-8')\n",
    "\n",
    "print('file name:', f.name)\n",
    "print('file mode:', f.mode)\n",
    "print('file readable:', f.readable())\n",
    "print('file writeable:', f.writable())\n",
    "print('file closed:', f.closed)\n",
    "f.close()\n",
    "print('file closed:', f.closed)"
   ]
  },
  {
   "cell_type": "code",
   "execution_count": 34,
   "metadata": {},
   "outputs": [
    {
     "name": "stdout",
     "output_type": "stream",
     "text": [
      "file name: FTU.txt\n",
      "file mode: r+\n",
      "file readable: True\n",
      "file writeable: True\n",
      "file closed: False\n",
      "file closed: True\n"
     ]
    }
   ],
   "source": [
    "f = open('FTU.txt', mode ='r+', encoding = 'utf-8')\n",
    "\n",
    "print('file name:', f.name)\n",
    "print('file mode:', f.mode)\n",
    "print('file readable:', f.readable())\n",
    "print('file writeable:', f.writable())\n",
    "print('file closed:', f.closed)\n",
    "f.close()\n",
    "print('file closed:', f.closed)"
   ]
  },
  {
   "cell_type": "code",
   "execution_count": 35,
   "metadata": {},
   "outputs": [
    {
     "name": "stdout",
     "output_type": "stream",
     "text": [
      "file name: FTU.txt\n",
      "file mode: w+\n",
      "file readable: True\n",
      "file writeable: True\n",
      "file closed: False\n",
      "file closed: True\n"
     ]
    }
   ],
   "source": [
    "f = open('FTU.txt', mode ='w+', encoding = 'utf-8')\n",
    "\n",
    "print('file name:', f.name)\n",
    "print('file mode:', f.mode)\n",
    "print('file readable:', f.readable())\n",
    "print('file writeable:', f.writable())\n",
    "print('file closed:', f.closed)\n",
    "f.close()\n",
    "print('file closed:', f.closed)"
   ]
  },
  {
   "cell_type": "code",
   "execution_count": 37,
   "metadata": {},
   "outputs": [
    {
     "name": "stdout",
     "output_type": "stream",
     "text": [
      "file name: Sun.jpg\n",
      "file mode: rb\n",
      "file readable: True\n",
      "file writeable: False\n",
      "file closed: False\n",
      "file closed: True\n"
     ]
    }
   ],
   "source": [
    "f = open('Sun.jpg', mode ='rb')\n",
    "\n",
    "print('file name:', f.name)\n",
    "print('file mode:', f.mode)\n",
    "print('file readable:', f.readable())\n",
    "print('file writeable:', f.writable())\n",
    "print('file closed:', f.closed)\n",
    "f.close()\n",
    "print('file closed:', f.closed)"
   ]
  },
  {
   "cell_type": "code",
   "execution_count": 40,
   "metadata": {},
   "outputs": [
    {
     "name": "stdout",
     "output_type": "stream",
     "text": [
      "file name: Sun.jpg\n",
      "file mode: wb\n",
      "file readable: False\n",
      "file writeable: True\n",
      "file closed: False\n",
      "file closed: True\n"
     ]
    }
   ],
   "source": [
    "f = open('Sun.jpg', mode ='wb')\n",
    "\n",
    "print('file name:', f.name)\n",
    "print('file mode:', f.mode)\n",
    "print('file readable:', f.readable())\n",
    "print('file writeable:', f.writable())\n",
    "print('file closed:', f.closed)\n",
    "f.close()\n",
    "print('file closed:', f.closed)"
   ]
  },
  {
   "cell_type": "code",
   "execution_count": 41,
   "metadata": {},
   "outputs": [
    {
     "name": "stdout",
     "output_type": "stream",
     "text": [
      "file name: Sun.jpg\n",
      "file mode: ab\n",
      "file readable: False\n",
      "file writeable: True\n",
      "file closed: False\n",
      "file closed: True\n"
     ]
    }
   ],
   "source": [
    "f = open('Sun.jpg', mode ='ab')\n",
    "\n",
    "print('file name:', f.name)\n",
    "print('file mode:', f.mode)\n",
    "print('file readable:', f.readable())\n",
    "print('file writeable:', f.writable())\n",
    "print('file closed:', f.closed)\n",
    "f.close()\n",
    "print('file closed:', f.closed)"
   ]
  },
  {
   "cell_type": "code",
   "execution_count": 43,
   "metadata": {},
   "outputs": [
    {
     "name": "stdout",
     "output_type": "stream",
     "text": [
      "file name: Sun1.jpg\n",
      "file mode: xb\n",
      "file readable: False\n",
      "file writeable: True\n",
      "file closed: False\n",
      "file closed: True\n"
     ]
    }
   ],
   "source": [
    "f = open('Sun1.jpg', mode ='xb')\n",
    "\n",
    "print('file name:', f.name)\n",
    "print('file mode:', f.mode)\n",
    "print('file readable:', f.readable())\n",
    "print('file writeable:', f.writable())\n",
    "print('file closed:', f.closed)\n",
    "f.close()\n",
    "print('file closed:', f.closed)"
   ]
  },
  {
   "cell_type": "code",
   "execution_count": 44,
   "metadata": {},
   "outputs": [
    {
     "name": "stdout",
     "output_type": "stream",
     "text": [
      "file name: Sun.jpg\n",
      "file mode: rb+\n",
      "file readable: True\n",
      "file writeable: True\n",
      "file closed: False\n",
      "file closed: True\n"
     ]
    }
   ],
   "source": [
    "f = open('Sun.jpg', mode ='rb+')\n",
    "\n",
    "print('file name:', f.name)\n",
    "print('file mode:', f.mode)\n",
    "print('file readable:', f.readable())\n",
    "print('file writeable:', f.writable())\n",
    "print('file closed:', f.closed)\n",
    "f.close()\n",
    "print('file closed:', f.closed)"
   ]
  },
  {
   "cell_type": "code",
   "execution_count": 45,
   "metadata": {},
   "outputs": [
    {
     "name": "stdout",
     "output_type": "stream",
     "text": [
      "file name: Sun.jpg\n",
      "file mode: rb+\n",
      "file readable: True\n",
      "file writeable: True\n",
      "file closed: False\n",
      "file closed: True\n"
     ]
    }
   ],
   "source": [
    "f = open('Sun.jpg', mode ='wb+')\n",
    "\n",
    "print('file name:', f.name)\n",
    "print('file mode:', f.mode)\n",
    "print('file readable:', f.readable())\n",
    "print('file writeable:', f.writable())\n",
    "print('file closed:', f.closed)\n",
    "f.close()\n",
    "print('file closed:', f.closed)"
   ]
  },
  {
   "cell_type": "code",
   "execution_count": 46,
   "metadata": {},
   "outputs": [
    {
     "name": "stdout",
     "output_type": "stream",
     "text": [
      "file name: Sun.jpg\n",
      "file mode: ab+\n",
      "file readable: True\n",
      "file writeable: True\n",
      "file closed: False\n",
      "file closed: True\n"
     ]
    }
   ],
   "source": [
    "f = open('Sun.jpg', mode ='ab+')\n",
    "\n",
    "print('file name:', f.name)\n",
    "print('file mode:', f.mode)\n",
    "print('file readable:', f.readable())\n",
    "print('file writeable:', f.writable())\n",
    "print('file closed:', f.closed)\n",
    "f.close()\n",
    "print('file closed:', f.closed)"
   ]
  },
  {
   "cell_type": "code",
   "execution_count": 47,
   "metadata": {},
   "outputs": [
    {
     "name": "stdout",
     "output_type": "stream",
     "text": [
      "True\n"
     ]
    }
   ],
   "source": [
    "# check file exists\n",
    "\n",
    "import os\n",
    "print(os.path.isfile('FTU.txt'))"
   ]
  },
  {
   "cell_type": "code",
   "execution_count": 48,
   "metadata": {},
   "outputs": [
    {
     "name": "stdout",
     "output_type": "stream",
     "text": [
      "file opened\n"
     ]
    }
   ],
   "source": [
    "# best method to find file is exists or not\n",
    "import os \n",
    "if os.path.isfile('student.txt'):\n",
    "    f =open('student.txt')\n",
    "    print('file opened')\n",
    "    f.close()\n",
    "else:\n",
    "    print('file not found')\n",
    "    "
   ]
  },
  {
   "cell_type": "code",
   "execution_count": 50,
   "metadata": {},
   "outputs": [
    {
     "name": "stdout",
     "output_type": "stream",
     "text": [
      "\n"
     ]
    }
   ],
   "source": [
    "with open('FTU.txt', 'r') as file:\n",
    "    print(file.readline())"
   ]
  },
  {
   "cell_type": "code",
   "execution_count": null,
   "metadata": {},
   "outputs": [],
   "source": []
  }
 ],
 "metadata": {
  "kernelspec": {
   "display_name": "Python 3",
   "language": "python",
   "name": "python3"
  },
  "language_info": {
   "codemirror_mode": {
    "name": "ipython",
    "version": 3
   },
   "file_extension": ".py",
   "mimetype": "text/x-python",
   "name": "python",
   "nbconvert_exporter": "python",
   "pygments_lexer": "ipython3",
   "version": "3.7.3"
  }
 },
 "nbformat": 4,
 "nbformat_minor": 2
}
