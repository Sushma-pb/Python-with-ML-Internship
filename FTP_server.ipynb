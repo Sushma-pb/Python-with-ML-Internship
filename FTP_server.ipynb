{
 "cells": [
  {
   "cell_type": "code",
   "execution_count": 1,
   "metadata": {},
   "outputs": [],
   "source": [
    "from ftplib import FTP\n"
   ]
  },
  {
   "cell_type": "code",
   "execution_count": 2,
   "metadata": {},
   "outputs": [],
   "source": [
    "ftp= FTP('ftp.fi.debian.org')"
   ]
  },
  {
   "cell_type": "code",
   "execution_count": 3,
   "metadata": {},
   "outputs": [
    {
     "name": "stdout",
     "output_type": "stream",
     "text": [
      "FTP RootDir Listing\n"
     ]
    }
   ],
   "source": [
    "print(\"FTP RootDir Listing\")"
   ]
  },
  {
   "cell_type": "code",
   "execution_count": 4,
   "metadata": {},
   "outputs": [
    {
     "name": "stdout",
     "output_type": "stream",
     "text": [
      "Logging in.\n"
     ]
    }
   ],
   "source": [
    "print('Logging in.')"
   ]
  },
  {
   "cell_type": "code",
   "execution_count": 5,
   "metadata": {},
   "outputs": [
    {
     "data": {
      "text/plain": [
       "'230 Login successful.'"
      ]
     },
     "execution_count": 5,
     "metadata": {},
     "output_type": "execute_result"
    }
   ],
   "source": [
    "ftp.login()"
   ]
  },
  {
   "cell_type": "code",
   "execution_count": 6,
   "metadata": {},
   "outputs": [
    {
     "name": "stdout",
     "output_type": "stream",
     "text": [
      "-rw-r--r--    1 ftp      ftp           754 Dec 23  2019 HEADER.html\n",
      "lrwxrwxrwx    1 ftp      ftp             3 Mar 16  2010 Public -> pub\n",
      "drwxr-xr-x    3 ftp      ftp            16 Mar 10 23:34 about\n",
      "drwxr-sr-x   27 ftp      ftp            29 Apr 19 13:43 cdimage\n",
      "drwxr-xr-x    2 ftp      ftp             3 Jun 14  2006 conspiracy\n",
      "lrwxrwxrwx    1 ftp      ftp            22 Mar 16  2010 debian -> cdimage/.debian-mirror\n",
      "drwxr-xr-x    5 ftp      ftp             7 Apr 25 11:44 debian-backports\n",
      "lrwxrwxrwx    1 ftp      ftp            16 Mar 16  2010 debian-cd -> cdimage/release/\n",
      "-rw-r--r--    1 ftp      ftp         15086 Apr 02  2018 favicon.ico\n",
      "lrwxrwxrwx    1 ftp      ftp             7 Mar 30 09:30 images -> cdimage\n",
      "drwxr-xr-x   85 ftp      ftp            92 Mar 10 23:32 mirror\n",
      "drwxr-xr-x    4 ftp      ftp            12 Dec 17  2019 pub\n",
      "lrwxrwxrwx    1 ftp      ftp            23 Mar 16  2010 releases -> mirror/ubuntu-releases/\n",
      "-rw-r--r--    1 ftp      ftp          1902 Mar 12  2019 robots.txt\n",
      "lrwxrwxrwx    1 ftp      ftp            12 Aug 01  2016 tails -> mirror/tails\n",
      "lrwxrwxrwx    1 ftp      ftp            13 Mar 16  2010 ubuntu -> mirror/ubuntu\n",
      "226 Directory send OK.\n"
     ]
    }
   ],
   "source": [
    "print(ftp.retrlines('LIST'))"
   ]
  },
  {
   "cell_type": "code",
   "execution_count": 7,
   "metadata": {},
   "outputs": [
    {
     "name": "stdout",
     "output_type": "stream",
     "text": [
      "Closing FTP connection\n"
     ]
    }
   ],
   "source": [
    "print('Closing FTP connection')\n",
    "ftp.close()"
   ]
  },
  {
   "cell_type": "code",
   "execution_count": null,
   "metadata": {},
   "outputs": [],
   "source": []
  }
 ],
 "metadata": {
  "kernelspec": {
   "display_name": "Python 3",
   "language": "python",
   "name": "python3"
  },
  "language_info": {
   "codemirror_mode": {
    "name": "ipython",
    "version": 3
   },
   "file_extension": ".py",
   "mimetype": "text/x-python",
   "name": "python",
   "nbconvert_exporter": "python",
   "pygments_lexer": "ipython3",
   "version": "3.7.3"
  }
 },
 "nbformat": 4,
 "nbformat_minor": 2
}
