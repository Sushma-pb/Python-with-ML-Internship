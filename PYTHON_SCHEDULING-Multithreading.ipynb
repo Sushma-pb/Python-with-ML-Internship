{
 "cells": [
  {
   "cell_type": "code",
   "execution_count": 2,
   "metadata": {},
   "outputs": [],
   "source": [
    "import multiprocessing\n",
    "import random\n",
    "import time\n",
    "from threading import current_thread\n",
    "import rx\n",
    "from rx.scheduler import ThreadPoolScheduler\n",
    "from rx import operators as ops\n"
   ]
  },
  {
   "cell_type": "code",
   "execution_count": 3,
   "metadata": {},
   "outputs": [
    {
     "name": "stdout",
     "output_type": "stream",
     "text": [
      "Cpu count is : 4\n"
     ]
    }
   ],
   "source": [
    "# calculate cpu count, using which will create a ThreadPoolScheduler\n",
    "thread_count = multiprocessing.cpu_count()\n",
    "thread_pool_scheduler = ThreadPoolScheduler(thread_count)\n",
    "print(\"Cpu count is : {0}\".format(thread_count))\n",
    "def adding_delay(value):\n",
    "    time.sleep(random.randint(5, 20) * 0.1)\n",
    "    return value\n"
   ]
  },
  {
   "cell_type": "code",
   "execution_count": 4,
   "metadata": {},
   "outputs": [
    {
     "data": {
      "text/plain": [
       "<rx.disposable.disposable.Disposable at 0x191209faa20>"
      ]
     },
     "execution_count": 4,
     "metadata": {},
     "output_type": "execute_result"
    },
    {
     "name": "stdout",
     "output_type": "stream",
     "text": [
      "From Task 1: 1\n",
      "From Task 1: 2\n",
      "From Task 1: 3\n",
      "From Task 1: 4\n",
      "From Task 1: 5\n",
      "Task 1 complete\n"
     ]
    }
   ],
   "source": [
    "# Task 1\n",
    "rx.of(1,2,3,4,5).pipe(\n",
    "   ops.map(lambda a: adding_delay(a)),\n",
    "   ops.subscribe_on(thread_pool_scheduler)\n",
    ").subscribe(\n",
    "   lambda s: print(\"From Task 1: {0}\".format(s)),\n",
    "   lambda e: print(e),\n",
    "   lambda: print(\"Task 1 complete\")\n",
    ")"
   ]
  },
  {
   "cell_type": "code",
   "execution_count": 5,
   "metadata": {},
   "outputs": [
    {
     "name": "stdout",
     "output_type": "stream",
     "text": [
      "From Task 2: 1\n",
      "From Task 2: 2\n",
      "From Task 2: 3\n",
      "From Task 2: 4\n",
      "Task 2 complete\n",
      "Press any key to exit\n",
      "n\n"
     ]
    },
    {
     "data": {
      "text/plain": [
       "'n'"
      ]
     },
     "execution_count": 5,
     "metadata": {},
     "output_type": "execute_result"
    }
   ],
   "source": [
    "# Task 2\n",
    "rx.range(1, 5).pipe(\n",
    "   ops.map(lambda a: adding_delay(a)),\n",
    "   ops.subscribe_on(thread_pool_scheduler)\n",
    ").subscribe(\n",
    "   lambda s: print(\"From Task 2: {0}\".format(s)),\n",
    "   lambda e: print(e),\n",
    "   lambda: print(\"Task 2 complete\")\n",
    ")\n",
    "input(\"Press any key to exit\\n\")"
   ]
  },
  {
   "cell_type": "markdown",
   "metadata": {},
   "source": [
    "# Alternate"
   ]
  },
  {
   "cell_type": "code",
   "execution_count": 6,
   "metadata": {},
   "outputs": [],
   "source": [
    "import sched\n",
    "import threading\n",
    "import time"
   ]
  },
  {
   "cell_type": "code",
   "execution_count": 7,
   "metadata": {},
   "outputs": [],
   "source": [
    "scheduler = sched.scheduler(time.time, time.sleep)\n",
    "counter = 0"
   ]
  },
  {
   "cell_type": "code",
   "execution_count": 9,
   "metadata": {},
   "outputs": [],
   "source": [
    "def increment_counter(name):\n",
    "    global counter\n",
    "    print('EVENT:', time.time(), name)\n",
    "    counter += 1\n",
    "    print('NOW:', counter)\n",
    "    "
   ]
  },
  {
   "cell_type": "code",
   "execution_count": 10,
   "metadata": {},
   "outputs": [
    {
     "name": "stdout",
     "output_type": "stream",
     "text": [
      "START: 1619371707.1248615\n"
     ]
    }
   ],
   "source": [
    "print('START:', time.time())\n",
    "e1 = scheduler.enter(5, 1, increment_counter, ('Liverpool match on TV',))\n",
    "e2 = scheduler.enter(8, 1, increment_counter, ('Take the rubbish bin out',))"
   ]
  },
  {
   "cell_type": "code",
   "execution_count": 11,
   "metadata": {},
   "outputs": [
    {
     "name": "stdout",
     "output_type": "stream",
     "text": [
      "running worker\n"
     ]
    }
   ],
   "source": [
    "def worker():\n",
    "    print(\"running worker\")\n",
    "    scheduler.run\n",
    " \n",
    "# Start a thread to run the events\n",
    "t = threading.Thread(target=worker, args=())\n",
    "t.start()"
   ]
  },
  {
   "cell_type": "code",
   "execution_count": 12,
   "metadata": {},
   "outputs": [
    {
     "name": "stdout",
     "output_type": "stream",
     "text": [
      "1. Schedule an event\n",
      "2. View all scheduled events\n",
      "3. Cancel all\n",
      "4. Exit\n",
      "enter option >> 1\n",
      "Scheduling a new event...\n",
      "1. Schedule an event\n",
      "2. View all scheduled events\n",
      "3. Cancel all\n",
      "4. Exit\n",
      "enter option >> 2\n",
      "Queue status...\n",
      "[Event(time=1619371673.1733172, priority=1, action=<function increment_counter at 0x0000019120A23268>, argument=('Liverpool match on TV',), kwargs={}), Event(time=1619371676.1733172, priority=1, action=<function increment_counter at 0x0000019120A23268>, argument=('Take the rubbish bin out',), kwargs={}), Event(time=1619371712.13286, priority=1, action=<function increment_counter at 0x0000019120A23510>, argument=('Liverpool match on TV',), kwargs={}), Event(time=1619371715.13286, priority=1, action=<function increment_counter at 0x0000019120A23510>, argument=('Take the rubbish bin out',), kwargs={}), Event(time=1619371736.0538392, priority=1, action=<function increment_counter at 0x0000019120A23510>, argument=('Some event in the future, remind me!',), kwargs={})]\n",
      "1. Schedule an event\n",
      "2. View all scheduled events\n",
      "3. Cancel all\n",
      "4. Exit\n",
      "enter option >> 3\n",
      "Cancelling all events...\n",
      "1. Schedule an event\n",
      "2. View all scheduled events\n",
      "3. Cancel all\n",
      "4. Exit\n",
      "enter option >> 4\n",
      "Exiting..\n",
      "FINAL: 0\n"
     ]
    }
   ],
   "source": [
    "# Back in the main thread, cancel the first scheduled event.\n",
    "# scheduler.cancel(e1)\n",
    " \n",
    "while True:\n",
    "    print(\"1. Schedule an event\")\n",
    "    print(\"2. View all scheduled events\")\n",
    "    print(\"3. Cancel all\")\n",
    "    print(\"4. Exit\")\n",
    " \n",
    "    choice = int(input(\"enter option >> \"))\n",
    " \n",
    "    if choice == 1:\n",
    "        print(\"Scheduling a new event...\")\n",
    "        e1 = scheduler.enter(3, 1, increment_counter, ('Some event in the future, remind me!',))\n",
    "    if choice == 2:\n",
    "        print(\"Queue status...\")\n",
    "        print(scheduler.queue)\n",
    "    if choice == 3:\n",
    "        print(\"Cancelling all events...\")\n",
    "        for ev in scheduler.queue:\n",
    "            scheduler.cancel(ev)\n",
    "    if choice == 4:\n",
    "        print(\"Exiting..\")\n",
    "        break\n",
    " \n",
    "print('FINAL:', counter)"
   ]
  },
  {
   "cell_type": "code",
   "execution_count": null,
   "metadata": {},
   "outputs": [],
   "source": []
  }
 ],
 "metadata": {
  "kernelspec": {
   "display_name": "Python 3",
   "language": "python",
   "name": "python3"
  },
  "language_info": {
   "codemirror_mode": {
    "name": "ipython",
    "version": 3
   },
   "file_extension": ".py",
   "mimetype": "text/x-python",
   "name": "python",
   "nbconvert_exporter": "python",
   "pygments_lexer": "ipython3",
   "version": "3.7.3"
  }
 },
 "nbformat": 4,
 "nbformat_minor": 2
}
